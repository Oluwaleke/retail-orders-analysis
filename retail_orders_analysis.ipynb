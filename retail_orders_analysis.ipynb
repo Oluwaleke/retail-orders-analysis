{
 "cells": [
  {
   "cell_type": "markdown",
   "id": "5fc03248-7766-4345-953d-47ad4fde9db8",
   "metadata": {},
   "source": [
    "# Retail Orders SQL Analytics (Pandas Edition)\n",
    "\n",
    "## 1. Introduction\n",
    "## 2. Load and Explore the Dataset\n",
    "## 3. Data Cleaning and Feature Engineering\n",
    "## 4. Business Questions Answered via SQL-style Pandas\n",
    "    - Total sales by region\n",
    "    - Top 5 products by revenue\n",
    "    - Number of unique customers per region\n",
    "    - Monthly revenue trend\n",
    "    - Average order value by category\n",
    "## 5. Insights & Business Recommendations\n",
    "## 6. Conclusion\n"
   ]
  },
  {
   "cell_type": "markdown",
   "id": "1c169be7-c0b9-4816-bc04-9ffe4471a52c",
   "metadata": {},
   "source": [
    "#### Loading and Exploring the Dataset"
   ]
  },
  {
   "cell_type": "code",
   "execution_count": 1,
   "id": "90ba967b-c977-44eb-acb0-1aa972b7f091",
   "metadata": {},
   "outputs": [
    {
     "name": "stdout",
     "output_type": "stream",
     "text": [
      "(1000, 9)\n"
     ]
    },
    {
     "data": {
      "text/html": [
       "<div>\n",
       "<style scoped>\n",
       "    .dataframe tbody tr th:only-of-type {\n",
       "        vertical-align: middle;\n",
       "    }\n",
       "\n",
       "    .dataframe tbody tr th {\n",
       "        vertical-align: top;\n",
       "    }\n",
       "\n",
       "    .dataframe thead th {\n",
       "        text-align: right;\n",
       "    }\n",
       "</style>\n",
       "<table border=\"1\" class=\"dataframe\">\n",
       "  <thead>\n",
       "    <tr style=\"text-align: right;\">\n",
       "      <th></th>\n",
       "      <th>order_id</th>\n",
       "      <th>order_date</th>\n",
       "      <th>customer_id</th>\n",
       "      <th>region</th>\n",
       "      <th>product</th>\n",
       "      <th>category</th>\n",
       "      <th>quantity</th>\n",
       "      <th>unit_price</th>\n",
       "      <th>total_price</th>\n",
       "    </tr>\n",
       "  </thead>\n",
       "  <tbody>\n",
       "    <tr>\n",
       "      <th>0</th>\n",
       "      <td>4174</td>\n",
       "      <td>2021-01-01</td>\n",
       "      <td>308</td>\n",
       "      <td>East</td>\n",
       "      <td>Phone</td>\n",
       "      <td>Technology</td>\n",
       "      <td>5</td>\n",
       "      <td>634.01</td>\n",
       "      <td>3170.05</td>\n",
       "    </tr>\n",
       "    <tr>\n",
       "      <th>1</th>\n",
       "      <td>4507</td>\n",
       "      <td>2021-01-02</td>\n",
       "      <td>204</td>\n",
       "      <td>East</td>\n",
       "      <td>Laptop</td>\n",
       "      <td>Furniture</td>\n",
       "      <td>4</td>\n",
       "      <td>990.41</td>\n",
       "      <td>3961.64</td>\n",
       "    </tr>\n",
       "    <tr>\n",
       "      <th>2</th>\n",
       "      <td>1860</td>\n",
       "      <td>2021-01-03</td>\n",
       "      <td>318</td>\n",
       "      <td>East</td>\n",
       "      <td>Chair</td>\n",
       "      <td>Technology</td>\n",
       "      <td>2</td>\n",
       "      <td>332.52</td>\n",
       "      <td>665.04</td>\n",
       "    </tr>\n",
       "    <tr>\n",
       "      <th>3</th>\n",
       "      <td>2294</td>\n",
       "      <td>2021-01-04</td>\n",
       "      <td>232</td>\n",
       "      <td>West</td>\n",
       "      <td>Laptop</td>\n",
       "      <td>Technology</td>\n",
       "      <td>5</td>\n",
       "      <td>359.77</td>\n",
       "      <td>1798.85</td>\n",
       "    </tr>\n",
       "    <tr>\n",
       "      <th>4</th>\n",
       "      <td>2130</td>\n",
       "      <td>2021-01-05</td>\n",
       "      <td>317</td>\n",
       "      <td>South</td>\n",
       "      <td>Printer</td>\n",
       "      <td>Technology</td>\n",
       "      <td>2</td>\n",
       "      <td>106.57</td>\n",
       "      <td>213.14</td>\n",
       "    </tr>\n",
       "  </tbody>\n",
       "</table>\n",
       "</div>"
      ],
      "text/plain": [
       "   order_id  order_date  customer_id region  product    category  quantity  \\\n",
       "0      4174  2021-01-01          308   East    Phone  Technology         5   \n",
       "1      4507  2021-01-02          204   East   Laptop   Furniture         4   \n",
       "2      1860  2021-01-03          318   East    Chair  Technology         2   \n",
       "3      2294  2021-01-04          232   West   Laptop  Technology         5   \n",
       "4      2130  2021-01-05          317  South  Printer  Technology         2   \n",
       "\n",
       "   unit_price  total_price  \n",
       "0      634.01      3170.05  \n",
       "1      990.41      3961.64  \n",
       "2      332.52       665.04  \n",
       "3      359.77      1798.85  \n",
       "4      106.57       213.14  "
      ]
     },
     "execution_count": 1,
     "metadata": {},
     "output_type": "execute_result"
    }
   ],
   "source": [
    "import pandas as pd\n",
    "\n",
    "# Load the dataset\n",
    "df = pd.read_csv(\"retail_orders.csv\")\n",
    "\n",
    "# Preview structure\n",
    "print(df.shape)\n",
    "df.head()"
   ]
  },
  {
   "cell_type": "code",
   "execution_count": 7,
   "id": "d061bc00-6462-459c-93df-231739c6a6fc",
   "metadata": {},
   "outputs": [
    {
     "name": "stdout",
     "output_type": "stream",
     "text": [
      "<class 'pandas.core.frame.DataFrame'>\n",
      "RangeIndex: 1000 entries, 0 to 999\n",
      "Data columns (total 13 columns):\n",
      " #   Column       Non-Null Count  Dtype         \n",
      "---  ------       --------------  -----         \n",
      " 0   order_id     1000 non-null   int64         \n",
      " 1   order_date   1000 non-null   datetime64[ns]\n",
      " 2   customer_id  1000 non-null   int64         \n",
      " 3   region       1000 non-null   object        \n",
      " 4   product      1000 non-null   object        \n",
      " 5   category     1000 non-null   object        \n",
      " 6   quantity     1000 non-null   int64         \n",
      " 7   unit_price   1000 non-null   float64       \n",
      " 8   total_price  1000 non-null   float64       \n",
      " 9   year         1000 non-null   int32         \n",
      " 10  month        1000 non-null   int32         \n",
      " 11  month_name   1000 non-null   object        \n",
      " 12  quarter      1000 non-null   int32         \n",
      "dtypes: datetime64[ns](1), float64(2), int32(3), int64(3), object(4)\n",
      "memory usage: 90.0+ KB\n"
     ]
    }
   ],
   "source": [
    "df.info()"
   ]
  },
  {
   "cell_type": "markdown",
   "id": "a8a8288c-c1dc-46ce-9e78-f30280869b05",
   "metadata": {},
   "source": [
    "#### Data Cleaning and Feature Engineering"
   ]
  },
  {
   "cell_type": "code",
   "execution_count": 3,
   "id": "9e0db8d8-1b68-4f5b-a693-4ce10c4675ce",
   "metadata": {},
   "outputs": [],
   "source": [
    "#Renaming columns for simplicity\n",
    "df.columns = df.columns.str.strip().str.lower().str.replace(' ', '_')\n",
    "df.rename(columns={'price_each': 'unit_price', \n",
    "                   'quantity_ordered': 'quantity',\n",
    "                   'order_revenue': 'total_price'}, inplace=True)"
   ]
  },
  {
   "cell_type": "code",
   "execution_count": 6,
   "id": "2fd8a3af-dd97-4252-8ead-3d9ba374c9bf",
   "metadata": {},
   "outputs": [],
   "source": [
    "#Create Time-Based Features (for grouping later)\n",
    "df['order_date'] = pd.to_datetime(df['order_date'])\n",
    "df['year'] = df['order_date'].dt.year\n",
    "df['month'] = df['order_date'].dt.month\n",
    "df['month_name'] = df['order_date'].dt.strftime('%b')\n",
    "df['quarter'] = df['order_date'].dt.quarter"
   ]
  },
  {
   "cell_type": "code",
   "execution_count": 8,
   "id": "b231f36b-72f6-4150-82ad-148260be8781",
   "metadata": {},
   "outputs": [
    {
     "name": "stdout",
     "output_type": "stream",
     "text": [
      "order_id       0\n",
      "order_date     0\n",
      "customer_id    0\n",
      "region         0\n",
      "product        0\n",
      "category       0\n",
      "quantity       0\n",
      "unit_price     0\n",
      "total_price    0\n",
      "year           0\n",
      "month          0\n",
      "month_name     0\n",
      "quarter        0\n",
      "dtype: int64\n",
      "0\n"
     ]
    }
   ],
   "source": [
    "#Checking for Missing Values and Duplicates\n",
    "print(df.isnull().sum())         # Check for missing values\n",
    "print(df.duplicated().sum())     # Check for duplicate rows"
   ]
  },
  {
   "cell_type": "markdown",
   "id": "5aae723f-c052-4c28-9693-e44ab9c03dde",
   "metadata": {},
   "source": [
    "#### Business Questions Answered via SQL-style Pandas"
   ]
  },
  {
   "cell_type": "code",
   "execution_count": 9,
   "id": "14aa0a24-67ba-4618-9bee-53ac8ae3285c",
   "metadata": {},
   "outputs": [],
   "source": [
    "# 1. What is the total revenue by region?"
   ]
  },
  {
   "cell_type": "code",
   "execution_count": 10,
   "id": "e04cf46c-7111-4359-bb11-6946756047b6",
   "metadata": {},
   "outputs": [
    {
     "name": "stdout",
     "output_type": "stream",
     "text": [
      "region\n",
      "West       425411.83\n",
      "South      381314.51\n",
      "East       371130.29\n",
      "Central    357169.06\n",
      "Name: total_price, dtype: float64\n"
     ]
    }
   ],
   "source": [
    "revenue_by_region = df.groupby('region')['total_price'].sum().sort_values(ascending=False)\n",
    "print(revenue_by_region)"
   ]
  },
  {
   "cell_type": "code",
   "execution_count": 11,
   "id": "3853decd-87a6-4157-95f4-8bb3be4ffb8b",
   "metadata": {},
   "outputs": [],
   "source": [
    "#2. Top 5 best-selling products by total revenue"
   ]
  },
  {
   "cell_type": "code",
   "execution_count": 12,
   "id": "c3c40923-3417-4467-9350-745f0d081bca",
   "metadata": {},
   "outputs": [
    {
     "name": "stdout",
     "output_type": "stream",
     "text": [
      "product\n",
      "Desk       245544.47\n",
      "Tablet     232533.40\n",
      "Monitor    231912.62\n",
      "Chair      216057.00\n",
      "Printer    203636.90\n",
      "Name: total_price, dtype: float64\n"
     ]
    }
   ],
   "source": [
    "top_products = df.groupby('product')['total_price'].sum().sort_values(ascending=False).head(5)\n",
    "print(top_products)"
   ]
  },
  {
   "cell_type": "code",
   "execution_count": 13,
   "id": "53792449-396e-4edd-897c-fe5e675c4449",
   "metadata": {},
   "outputs": [],
   "source": [
    "# 3. How many unique customers are there per region?"
   ]
  },
  {
   "cell_type": "code",
   "execution_count": 14,
   "id": "d045d28e-6cbf-4fb9-8d5b-6a78e7fcb08b",
   "metadata": {},
   "outputs": [
    {
     "name": "stdout",
     "output_type": "stream",
     "text": [
      "region\n",
      "Central    139\n",
      "East       136\n",
      "South      145\n",
      "West       145\n",
      "Name: customer_id, dtype: int64\n"
     ]
    }
   ],
   "source": [
    "unique_customers = df.groupby('region')['customer_id'].nunique()\n",
    "print(unique_customers)"
   ]
  },
  {
   "cell_type": "code",
   "execution_count": 15,
   "id": "d209b97c-661f-44fc-9c4d-50f3fa1dd4c7",
   "metadata": {},
   "outputs": [],
   "source": [
    "# 4. What is the monthly revenue trend?"
   ]
  },
  {
   "cell_type": "code",
   "execution_count": 16,
   "id": "54ddaf27-1944-40cb-9c5e-1b3398f7cab8",
   "metadata": {},
   "outputs": [
    {
     "data": {
      "image/png": "[encoded data removed]",
      "text/plain": [
       "<Figure size 1200x600 with 1 Axes>"
      ]
     },
     "metadata": {},
     "output_type": "display_data"
    }
   ],
   "source": [
    "monthly_revenue = df.groupby(['year', 'month'])['total_price'].sum().reset_index()\n",
    "monthly_revenue['month_year'] = pd.to_datetime(monthly_revenue[['year', 'month']].assign(day=1))\n",
    "\n",
    "import matplotlib.pyplot as plt\n",
    "import seaborn as sns\n",
    "\n",
    "plt.figure(figsize=(12,6))\n",
    "sns.lineplot(data=monthly_revenue, x='month_year', y='total_price', marker='o')\n",
    "plt.title(\"Monthly Revenue Trend\")\n",
    "plt.xlabel(\"Month\")\n",
    "plt.ylabel(\"Revenue\")\n",
    "plt.grid(True)\n",
    "plt.show()"
   ]
  },
  {
   "cell_type": "code",
   "execution_count": 17,
   "id": "5c9cd825-8207-4432-900d-20010d084dfd",
   "metadata": {},
   "outputs": [
    {
     "name": "stdout",
     "output_type": "stream",
     "text": [
      "category\n",
      "Furniture          1477.76\n",
      "Office Supplies    1495.16\n",
      "Technology         1619.69\n",
      "Name: total_price, dtype: float64\n"
     ]
    }
   ],
   "source": [
    "# 5. Average order value by product category\n",
    "avg_order_value = df.groupby('category')['total_price'].mean().round(2)\n",
    "print(avg_order_value)"
   ]
  },
  {
   "cell_type": "markdown",
   "id": "3e072272-723c-4e16-b100-f585066d5f95",
   "metadata": {},
   "source": [
    "#### Insights & Business Recommendations"
   ]
  },
  {
   "cell_type": "markdown",
   "id": "8c50381c-8c58-4fe1-9e59-7585f787ef84",
   "metadata": {},
   "source": [
    "### 🔍 Key Insights\n",
    "\n",
    "1. **Regional Performance**\n",
    "   The region with the highest total revenue is the West, indicating strong market engagement.\n",
    "   - Regions like Central may require improved strategy or targeted promotions.\n",
    "\n",
    "2. **Top Products**\n",
    "   - The top 5 revenue-generating products are dominated by Desk, confirming customer demand.\n",
    "   - Inventory planning should favour these products during high-volume seasons.\n",
    "\n",
    "3. **Customer Spread**\n",
    "   - A diverse customer base is seen across regions, with Central hosting the most unique buyers.\n",
    "\n",
    "4. **Monthly Revenue Trends**\n",
    "   - Sales trend upwards over time with a noticeable revenue peak occurring around Q3 2022 (specifically August–September), which may correlate with       promotional periods or seasonality.\n",
    "   - Planning campaigns in Q3 (July to September)  could yield higher ROI.\n",
    "\n",
    "5. **Category Profitability**\n",
    "   - Average order value is highest for Furniture, suggesting it has premium pricing or high-value bundles.\n",
    "   - Technology may benefit from cross-selling or product bundling to raise order value.\n"
   ]
  },
  {
   "cell_type": "code",
   "execution_count": null,
   "id": "3ea27ec2-81ec-4e8d-8552-20bec3de4481",
   "metadata": {},
   "outputs": [],
   "source": []
  }
 ],
 "metadata": {
  "kernelspec": {
   "display_name": "Python 3 (ipykernel)",
   "language": "python",
   "name": "python3"
  },
  "language_info": {
   "codemirror_mode": {
    "name": "ipython",
    "version": 3
   },
   "file_extension": ".py",
   "mimetype": "text/x-python",
   "name": "python",
   "nbconvert_exporter": "python",
   "pygments_lexer": "ipython3",
   "version": "3.9.15"
  }
 },
 "nbformat": 4,
 "nbformat_minor": 5
}
